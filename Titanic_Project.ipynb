{
  "nbformat": 4,
  "nbformat_minor": 0,
  "metadata": {
    "colab": {
      "name": "Titanic Project.ipynb",
      "private_outputs": true,
      "provenance": [],
      "collapsed_sections": [],
      "authorship_tag": "ABX9TyNrTryD7EginmzoHo83u0yL",
      "include_colab_link": true
    },
    "kernelspec": {
      "name": "python3",
      "display_name": "Python 3"
    },
    "language_info": {
      "name": "python"
    },
    "accelerator": "GPU"
  },
  "cells": [
    {
      "cell_type": "markdown",
      "metadata": {
        "id": "view-in-github",
        "colab_type": "text"
      },
      "source": [
        "<a href=\"https://colab.research.google.com/github/rana430/Titanic/blob/main/Titanic_Project.ipynb\" target=\"_parent\"><img src=\"https://colab.research.google.com/assets/colab-badge.svg\" alt=\"Open In Colab\"/></a>"
      ]
    },
    {
      "cell_type": "markdown",
      "metadata": {
        "id": "7bJPKeHiOlSC"
      },
      "source": [
        "#Titanic Project"
      ]
    },
    {
      "cell_type": "markdown",
      "metadata": {
        "id": "cZ2EWanaOqBX"
      },
      "source": [
        "##Import some libraries"
      ]
    },
    {
      "cell_type": "code",
      "metadata": {
        "id": "su2LnG-4dp1P"
      },
      "source": [
        "import pandas as pd\n",
        "import numpy as np\n",
        "import matplotlib.pyplot as plt\n",
        "import seaborn as sns\n",
        "%matplotlib inline"
      ],
      "execution_count": null,
      "outputs": []
    },
    {
      "cell_type": "markdown",
      "metadata": {
        "id": "zqrXSiBrOxLi"
      },
      "source": [
        "###Upload csv files"
      ]
    },
    {
      "cell_type": "code",
      "metadata": {
        "id": "DHR3Eckkd3Wt"
      },
      "source": [
        "from google.colab import files\n",
        "uploaded = files.upload()"
      ],
      "execution_count": null,
      "outputs": []
    },
    {
      "cell_type": "code",
      "metadata": {
        "id": "Qtv7pUL_78i-"
      },
      "source": [
        "from google.colab import files\n",
        "uploaded = files.upload()"
      ],
      "execution_count": null,
      "outputs": []
    },
    {
      "cell_type": "markdown",
      "metadata": {
        "id": "RlERqTBtO5eM"
      },
      "source": [
        "###Read csv file"
      ]
    },
    {
      "cell_type": "code",
      "metadata": {
        "id": "Mk8JrSVUipLl"
      },
      "source": [
        "train = pd.read_csv('titanic_train.csv')\n",
        "test = pd.read_csv('titanic_test.csv')"
      ],
      "execution_count": null,
      "outputs": []
    },
    {
      "cell_type": "code",
      "metadata": {
        "id": "T2SfJpeo8aE5"
      },
      "source": [
        "combine = [train, test]"
      ],
      "execution_count": null,
      "outputs": []
    },
    {
      "cell_type": "code",
      "metadata": {
        "id": "WirTNtcSixNy"
      },
      "source": [
        "train.head()"
      ],
      "execution_count": null,
      "outputs": []
    },
    {
      "cell_type": "code",
      "metadata": {
        "id": "2NfNZOsLsMOY"
      },
      "source": [
        "print(train.columns.values)"
      ],
      "execution_count": null,
      "outputs": []
    },
    {
      "cell_type": "code",
      "metadata": {
        "id": "HoBtfJZtsd1U"
      },
      "source": [
        "train.describe()\n"
      ],
      "execution_count": null,
      "outputs": []
    },
    {
      "cell_type": "code",
      "metadata": {
        "id": "aaxb1PELcRBC"
      },
      "source": [
        "train.info()"
      ],
      "execution_count": null,
      "outputs": []
    },
    {
      "cell_type": "code",
      "metadata": {
        "id": "yJkjSiCUcyxc"
      },
      "source": [
        "train.describe(include=['O'])"
      ],
      "execution_count": null,
      "outputs": []
    },
    {
      "cell_type": "markdown",
      "metadata": {
        "id": "3cgjBf8pSV-z"
      },
      "source": [
        "##Data Visulaisation"
      ]
    },
    {
      "cell_type": "markdown",
      "metadata": {
        "id": "dVEB7viHRd3y"
      },
      "source": [
        "###Understanding corrleations"
      ]
    },
    {
      "cell_type": "markdown",
      "metadata": {
        "id": "KZhkAIv1RozD"
      },
      "source": [
        "Pclass & Survived"
      ]
    },
    {
      "cell_type": "code",
      "metadata": {
        "id": "S__K0BLNdMDO"
      },
      "source": [
        "train[['Pclass', 'Survived']].groupby(['Pclass'], as_index=False).mean().sort_values(by='Survived', ascending=False)"
      ],
      "execution_count": null,
      "outputs": []
    },
    {
      "cell_type": "code",
      "metadata": {
        "id": "u8cMhrTYmHeu"
      },
      "source": [
        "sns.set_style('whitegrid')\n",
        "sns.countplot(x='Survived',hue='Pclass',data=train,palette='rainbow')"
      ],
      "execution_count": null,
      "outputs": []
    },
    {
      "cell_type": "markdown",
      "metadata": {
        "id": "1mWoqhqqRvsf"
      },
      "source": [
        "Sex & Survived"
      ]
    },
    {
      "cell_type": "code",
      "metadata": {
        "id": "wQAoTS8UdnZL"
      },
      "source": [
        "train[[\"Sex\", \"Survived\"]].groupby(['Sex'], as_index=False).mean().sort_values(by='Survived', ascending=False)"
      ],
      "execution_count": null,
      "outputs": []
    },
    {
      "cell_type": "code",
      "metadata": {
        "id": "-WnmnkCRmFNV"
      },
      "source": [
        "sns.set_style('whitegrid')\n",
        "sns.countplot(x='Survived',hue='Sex',data=train,palette='RdBu_r')"
      ],
      "execution_count": null,
      "outputs": []
    },
    {
      "cell_type": "markdown",
      "metadata": {
        "id": "pr0UJvbWR0C3"
      },
      "source": [
        "Sibsp & Survived"
      ]
    },
    {
      "cell_type": "code",
      "metadata": {
        "id": "x7fH8lqHeLhi"
      },
      "source": [
        "train[[\"SibSp\", \"Survived\"]].groupby(['SibSp'], as_index=False).mean().sort_values(by='Survived', ascending=False)"
      ],
      "execution_count": null,
      "outputs": []
    },
    {
      "cell_type": "code",
      "metadata": {
        "id": "Ys2n3J6FePyP"
      },
      "source": [
        "sns.set_style('whitegrid')\n",
        "sns.countplot(x='Survived',hue='SibSp',data=train,palette='RdBu_r')"
      ],
      "execution_count": null,
      "outputs": []
    },
    {
      "cell_type": "code",
      "metadata": {
        "id": "llKZqHq5mA7z"
      },
      "source": [
        "sns.set_style('whitegrid')\n",
        "sns.countplot(x='Survived',data=train,palette='RdBu_r')"
      ],
      "execution_count": null,
      "outputs": []
    },
    {
      "cell_type": "code",
      "metadata": {
        "id": "GUG0BkEzmais"
      },
      "source": [
        "train['Age'].hist(bins=30,color='darkred',alpha=0.7)"
      ],
      "execution_count": null,
      "outputs": []
    },
    {
      "cell_type": "code",
      "metadata": {
        "id": "TFhstwhPmcrE"
      },
      "source": [
        "sns.countplot(x='SibSp',data=train)"
      ],
      "execution_count": null,
      "outputs": []
    },
    {
      "cell_type": "code",
      "metadata": {
        "id": "Qnk70Upv1XGG"
      },
      "source": [
        "h = sns.FacetGrid(train, row = 'Sex', col = 'Pclass', hue = 'Survived')\n",
        "h.map(plt.hist, 'Age', alpha = .75)\n",
        "h.add_legend()"
      ],
      "execution_count": null,
      "outputs": []
    },
    {
      "cell_type": "code",
      "metadata": {
        "id": "InmataY-2Zyl"
      },
      "source": [
        "pp = sns.pairplot(train, hue = 'Survived', palette = 'deep', size=2.2, diag_kind = 'kde', diag_kws=dict(shade=True), plot_kws=dict(s=10) )\n",
        "pp.set(xticklabels=[])"
      ],
      "execution_count": null,
      "outputs": []
    },
    {
      "cell_type": "code",
      "metadata": {
        "id": "QxS4Kdaj3qG0"
      },
      "source": [
        "grid = sns.FacetGrid(train, col='Survived', row='Pclass', size=2.2, aspect=1.6)\n",
        "grid.map(plt.hist, 'Age', alpha=.5, bins=20)\n",
        "grid.add_legend();"
      ],
      "execution_count": null,
      "outputs": []
    },
    {
      "cell_type": "code",
      "metadata": {
        "id": "6f3A-sXJ36Bw"
      },
      "source": [
        "grid = sns.FacetGrid(train, row='Embarked', size=2.2, aspect=1.6)\n",
        "grid.map(sns.pointplot, 'Pclass', 'Survived', 'Sex', palette='deep')\n",
        "grid.add_legend()"
      ],
      "execution_count": null,
      "outputs": []
    },
    {
      "cell_type": "markdown",
      "metadata": {
        "id": "u_YoQBtjSn4a"
      },
      "source": [
        "##Cleaning Data"
      ]
    },
    {
      "cell_type": "markdown",
      "metadata": {
        "id": "d44b8dXFR6CO"
      },
      "source": [
        "###Find Missing Data"
      ]
    },
    {
      "cell_type": "code",
      "metadata": {
        "id": "wlHh5LScjeG6"
      },
      "source": [
        "sns.heatmap(train.isnull(),yticklabels=False,cbar=False,cmap='viridis')"
      ],
      "execution_count": null,
      "outputs": []
    },
    {
      "cell_type": "code",
      "metadata": {
        "id": "-GLbr08Omfi0"
      },
      "source": [
        "plt.figure(figsize=(12, 7))\n",
        "sns.boxplot(x='Pclass',y='Age',data=train,palette='winter')"
      ],
      "execution_count": null,
      "outputs": []
    },
    {
      "cell_type": "code",
      "metadata": {
        "id": "Nhh-04Or4mjI"
      },
      "source": [
        "def impute_age(cols):\n",
        "    Age = cols[0]\n",
        "    Pclass = cols[1]\n",
        "    \n",
        "    if pd.isnull(Age):\n",
        "\n",
        "        if Pclass == 1:\n",
        "            return 37\n",
        "\n",
        "        elif Pclass == 2:\n",
        "            return 29\n",
        "\n",
        "        else:\n",
        "            return 24\n",
        "\n",
        "    else:\n",
        "        return Age"
      ],
      "execution_count": null,
      "outputs": []
    },
    {
      "cell_type": "code",
      "metadata": {
        "id": "2XJvb3QF4uER"
      },
      "source": [
        "train['Age'] = train[['Age','Pclass']].apply(impute_age,axis=1)"
      ],
      "execution_count": null,
      "outputs": []
    },
    {
      "cell_type": "code",
      "metadata": {
        "id": "7qLaSquKq_-j"
      },
      "source": [
        "sns.heatmap(train.isnull(),yticklabels=False,cbar=False,cmap='viridis')"
      ],
      "execution_count": null,
      "outputs": []
    },
    {
      "cell_type": "markdown",
      "metadata": {
        "id": "j9Z5G-MEUvnj"
      },
      "source": [
        "Delete non-Related Features"
      ]
    },
    {
      "cell_type": "code",
      "metadata": {
        "id": "9JEoZsQ-4xjx"
      },
      "source": [
        "train = train.drop(['Ticket', 'Cabin'], axis=1)"
      ],
      "execution_count": null,
      "outputs": []
    },
    {
      "cell_type": "code",
      "metadata": {
        "id": "xP3TmVDp_x4l"
      },
      "source": [
        "combine = [train, test]"
      ],
      "execution_count": null,
      "outputs": []
    },
    {
      "cell_type": "code",
      "metadata": {
        "id": "V8mWny5I9zXa"
      },
      "source": [
        "train.head(10)"
      ],
      "execution_count": null,
      "outputs": []
    },
    {
      "cell_type": "code",
      "metadata": {
        "id": "Lu1Wz5DY_l5a"
      },
      "source": [
        "combine = [train , test]"
      ],
      "execution_count": null,
      "outputs": []
    },
    {
      "cell_type": "markdown",
      "metadata": {
        "id": "c90gg31b6YPU"
      },
      "source": [
        "#### Getting New feature"
      ]
    },
    {
      "cell_type": "markdown",
      "metadata": {
        "id": "tTDlqDQaAsLL"
      },
      "source": [
        "######Complete some categrical features by Most repeated "
      ]
    },
    {
      "cell_type": "code",
      "metadata": {
        "id": "mtm9HNr_AUHD"
      },
      "source": [
        "freq_port = train.Embarked.dropna().mode()[0]\n",
        "freq_port"
      ],
      "execution_count": null,
      "outputs": []
    },
    {
      "cell_type": "code",
      "metadata": {
        "id": "qMaoHe1SAxBj"
      },
      "source": [
        "for dataset in combine:\n",
        "    dataset['Embarked'] = dataset['Embarked'].fillna(freq_port)\n",
        "    \n",
        "train[['Embarked', 'Survived']].groupby(['Embarked'], as_index=False).mean().sort_values(by='Survived', ascending=False)"
      ],
      "execution_count": null,
      "outputs": []
    },
    {
      "cell_type": "markdown",
      "metadata": {
        "id": "wFm-fwILXvX7"
      },
      "source": [
        "####Craeting New feature Called Family Size"
      ]
    },
    {
      "cell_type": "code",
      "metadata": {
        "id": "z1SvRr6X-RT6"
      },
      "source": [
        "for dataset in combine:\n",
        "    dataset['FamilySize'] = dataset['SibSp'] + dataset['Parch'] + 1\n",
        "\n",
        "train[['FamilySize', 'Survived']].groupby(['FamilySize'], as_index=False).mean().sort_values(by='Survived', ascending=False)\n"
      ],
      "execution_count": null,
      "outputs": []
    },
    {
      "cell_type": "markdown",
      "metadata": {
        "id": "abwJ-Ae0_3CI"
      },
      "source": [
        "Create another feature called Alone"
      ]
    },
    {
      "cell_type": "code",
      "metadata": {
        "id": "_Top0srG-nNb"
      },
      "source": [
        "for dataset in combine:\n",
        "    dataset['Alone'] = 0\n",
        "    dataset.loc[dataset['FamilySize'] == 1, 'Alone'] = 1\n",
        "\n",
        "train[['Alone', 'Survived']].groupby(['Alone'], as_index=False).mean()"
      ],
      "execution_count": null,
      "outputs": []
    },
    {
      "cell_type": "markdown",
      "metadata": {
        "id": "ocrMUwrsVzZV"
      },
      "source": [
        "###Cateorical Data "
      ]
    },
    {
      "cell_type": "markdown",
      "metadata": {
        "id": "wftcNj-yVB6R"
      },
      "source": [
        "#### Improve Some Features"
      ]
    },
    {
      "cell_type": "markdown",
      "metadata": {
        "id": "R8JfiGbL8613"
      },
      "source": [
        "Replacing Titles with more common name"
      ]
    },
    {
      "cell_type": "code",
      "metadata": {
        "id": "0zObUrj143gj"
      },
      "source": [
        "for dataset in combine:\n",
        "    dataset['Title'] = dataset.Name.str.extract(' ([A-Za-z]+)\\.', expand=False)\n",
        "\n",
        "pd.crosstab(train['Title'], train['Sex'])"
      ],
      "execution_count": null,
      "outputs": []
    },
    {
      "cell_type": "code",
      "metadata": {
        "id": "CLrRllm45Q3x"
      },
      "source": [
        "for dataset in combine:\n",
        "    dataset['Title'] = dataset['Title'].replace(['Lady', 'Countess','Capt', 'Col',\\\n",
        " \t'Don', 'Dr', 'Major', 'Rev', 'Sir', 'Jonkheer', 'Dona'], 'Rare')\n",
        "\n",
        "    dataset['Title'] = dataset['Title'].replace('Mlle', 'Miss')\n",
        "    dataset['Title'] = dataset['Title'].replace('Ms', 'Miss')\n",
        "    dataset['Title'] = dataset['Title'].replace('Mme', 'Mrs')\n",
        "    \n",
        "train[['Title', 'Survived']].groupby(['Title'], as_index=False).mean()"
      ],
      "execution_count": null,
      "outputs": []
    },
    {
      "cell_type": "markdown",
      "metadata": {
        "id": "EsBbwiwJ9mNd"
      },
      "source": [
        "Convert the categorical titles into ordinal "
      ]
    },
    {
      "cell_type": "code",
      "metadata": {
        "id": "qc5eYQ9C9LzK"
      },
      "source": [
        "title_mapping = {\"Mr\": 1, \"Miss\": 2, \"Mrs\": 3, \"Master\": 4, \"Rare\": 5}\n",
        "for dataset in combine:\n",
        "    dataset['Title'] = dataset['Title'].map(title_mapping)\n",
        "    dataset['Title'] = dataset['Title'].fillna(0)"
      ],
      "execution_count": null,
      "outputs": []
    },
    {
      "cell_type": "code",
      "metadata": {
        "id": "NXoFs2RLA3iB"
      },
      "source": [
        "for dataset in combine:\n",
        "    dataset['Embarked'] = dataset['Embarked'].map( {'S': 0, 'C': 1, 'Q': 2} ).astype(int)"
      ],
      "execution_count": null,
      "outputs": []
    },
    {
      "cell_type": "code",
      "metadata": {
        "id": "D6hZo9Zq-AmD"
      },
      "source": [
        "for dataset in combine:\n",
        "    dataset['Sex'] = dataset['Sex'].map( {'female': 1, 'male': 0} ).astype(int)"
      ],
      "execution_count": null,
      "outputs": []
    },
    {
      "cell_type": "code",
      "metadata": {
        "id": "Ba93CV-JFW-T"
      },
      "source": [
        "pp = sns.pairplot(train, hue = 'Survived', palette = 'deep', size=2.2, diag_kind = 'kde', diag_kws=dict(shade=True), plot_kws=dict(s=10) )\n",
        "pp.set(xticklabels=[])"
      ],
      "execution_count": null,
      "outputs": []
    },
    {
      "cell_type": "markdown",
      "metadata": {
        "id": "yOSqa03TYdUG"
      },
      "source": [
        "####Drop Old features"
      ]
    },
    {
      "cell_type": "code",
      "metadata": {
        "id": "HKvHgk2CAFuK"
      },
      "source": [
        "train = train.drop(['Parch', 'SibSp', 'Name', 'PassengerId'], axis=1)\n",
        "test = test.drop(['Parch', 'SibSp','Name', 'PassengerId'], axis=1)\n",
        "combine = [train, test]"
      ],
      "execution_count": null,
      "outputs": []
    },
    {
      "cell_type": "code",
      "metadata": {
        "id": "__L-GUNg91_R"
      },
      "source": [
        ""
      ],
      "execution_count": null,
      "outputs": []
    },
    {
      "cell_type": "code",
      "metadata": {
        "id": "o46Y0fp9HUDx"
      },
      "source": [
        "train.corr()"
      ],
      "execution_count": null,
      "outputs": []
    },
    {
      "cell_type": "markdown",
      "metadata": {
        "id": "UpJE06vf_-OP"
      },
      "source": [
        "###Spliting Data"
      ]
    },
    {
      "cell_type": "code",
      "metadata": {
        "id": "FPnmgouDBbMC"
      },
      "source": [
        "from sklearn.model_selection import train_test_split"
      ],
      "execution_count": null,
      "outputs": []
    },
    {
      "cell_type": "code",
      "metadata": {
        "id": "hgiTOX9PCSD1"
      },
      "source": [
        "X_train, X_test, y_train, y_test = train_test_split(train.drop('Survived',axis=1), train['Survived'], test_size=0.2, random_state=101)"
      ],
      "execution_count": null,
      "outputs": []
    },
    {
      "cell_type": "markdown",
      "metadata": {
        "id": "yb1pDbzjCmYL"
      },
      "source": [
        "##Training & Predicting"
      ]
    },
    {
      "cell_type": "markdown",
      "metadata": {
        "id": "imX8bMBncN2P"
      },
      "source": [
        "#### Logistic Regression"
      ]
    },
    {
      "cell_type": "code",
      "metadata": {
        "id": "6PXMdA8-CtDE"
      },
      "source": [
        "from sklearn.linear_model import LogisticRegression"
      ],
      "execution_count": null,
      "outputs": []
    },
    {
      "cell_type": "code",
      "metadata": {
        "id": "TScQjCSICucS"
      },
      "source": [
        "logmodel = LogisticRegression()\n",
        "logmodel.fit(X_train,y_train)"
      ],
      "execution_count": null,
      "outputs": []
    },
    {
      "cell_type": "code",
      "metadata": {
        "id": "TPH5eOinCt9L"
      },
      "source": [
        "predictions = logmodel.predict(X_test)\n",
        "predictions"
      ],
      "execution_count": null,
      "outputs": []
    },
    {
      "cell_type": "markdown",
      "metadata": {
        "id": "mqKY1T3IC7Rm"
      },
      "source": [
        "## Evaluation"
      ]
    },
    {
      "cell_type": "code",
      "metadata": {
        "id": "HHV93qz_C1mi"
      },
      "source": [
        "from sklearn.metrics import classification_report"
      ],
      "execution_count": null,
      "outputs": []
    },
    {
      "cell_type": "code",
      "metadata": {
        "id": "V3vgREekDCgy"
      },
      "source": [
        "print(classification_report(y_test,predictions))"
      ],
      "execution_count": null,
      "outputs": []
    },
    {
      "cell_type": "code",
      "metadata": {
        "id": "19FQu-ogEj3c"
      },
      "source": [
        "from sklearn.metrics import accuracy_score\n",
        "accuracy_score(y_test,predictions)"
      ],
      "execution_count": null,
      "outputs": []
    },
    {
      "cell_type": "code",
      "metadata": {
        "id": "YuAAvE6He06w"
      },
      "source": [
        "acc_logmodel = round(logmodel.score(X_train, y_train) * 100, 2)\n",
        "acc_logmodel"
      ],
      "execution_count": null,
      "outputs": []
    },
    {
      "cell_type": "markdown",
      "metadata": {
        "id": "WxAmrqFCcbjY"
      },
      "source": [
        "####KNeighborsClassifier"
      ]
    },
    {
      "cell_type": "code",
      "metadata": {
        "id": "04nVIIy9DEnK"
      },
      "source": [
        "from sklearn.neighbors import KNeighborsClassifier"
      ],
      "execution_count": null,
      "outputs": []
    },
    {
      "cell_type": "code",
      "metadata": {
        "id": "83MDFBk_DQG6"
      },
      "source": [
        "knn = KNeighborsClassifier(n_neighbors=5)"
      ],
      "execution_count": null,
      "outputs": []
    },
    {
      "cell_type": "code",
      "metadata": {
        "id": "YgZTJv96DSFz"
      },
      "source": [
        "knn.fit(X_train, y_train)\n"
      ],
      "execution_count": null,
      "outputs": []
    },
    {
      "cell_type": "code",
      "metadata": {
        "id": "e3TfBrI7DT7a"
      },
      "source": [
        "pred_1 = knn.predict(X_test)"
      ],
      "execution_count": null,
      "outputs": []
    },
    {
      "cell_type": "code",
      "metadata": {
        "id": "kZwqkSDnDWPa"
      },
      "source": [
        "print(classification_report(y_test, pred_1))"
      ],
      "execution_count": null,
      "outputs": []
    },
    {
      "cell_type": "code",
      "metadata": {
        "id": "27MPQ2coEb8Q"
      },
      "source": [
        "from sklearn.metrics import accuracy_score\n",
        "acc_knn = accuracy_score(y_test,pred_1)*100\n",
        "acc_knn"
      ],
      "execution_count": null,
      "outputs": []
    },
    {
      "cell_type": "code",
      "metadata": {
        "id": "UrOG4VYuen_N"
      },
      "source": [
        ""
      ],
      "execution_count": null,
      "outputs": []
    },
    {
      "cell_type": "markdown",
      "metadata": {
        "id": "dHzslpgTceGs"
      },
      "source": [
        "####DecisionTreeClassifier"
      ]
    },
    {
      "cell_type": "code",
      "metadata": {
        "id": "2anqtUQVDY5q"
      },
      "source": [
        "from sklearn.tree import DecisionTreeClassifier"
      ],
      "execution_count": null,
      "outputs": []
    },
    {
      "cell_type": "code",
      "metadata": {
        "id": "llHKXxleDcNk"
      },
      "source": [
        "tree = DecisionTreeClassifier()\n",
        "tree.fit(X_train,y_train)"
      ],
      "execution_count": null,
      "outputs": []
    },
    {
      "cell_type": "code",
      "metadata": {
        "id": "jNMO9XcMDmkr"
      },
      "source": [
        "pred_2 = tree.predict(X_test)"
      ],
      "execution_count": null,
      "outputs": []
    },
    {
      "cell_type": "code",
      "metadata": {
        "id": "1vl2ZExIDpA7"
      },
      "source": [
        "print(classification_report(y_test, pred_2))"
      ],
      "execution_count": null,
      "outputs": []
    },
    {
      "cell_type": "code",
      "metadata": {
        "id": "0MBzyM7IDrB5"
      },
      "source": [
        "from sklearn.metrics import accuracy_score\n",
        "acc_tree = accuracy_score(y_test,pred_2)*100\n",
        "acc_tree"
      ],
      "execution_count": null,
      "outputs": []
    },
    {
      "cell_type": "code",
      "metadata": {
        "id": "SdO-zTimeS7V"
      },
      "source": [
        ""
      ],
      "execution_count": null,
      "outputs": []
    },
    {
      "cell_type": "markdown",
      "metadata": {
        "id": "Ecophvdqd_ei"
      },
      "source": [
        "####SGDClassifier"
      ]
    },
    {
      "cell_type": "code",
      "metadata": {
        "id": "_6eLgv54c5Dw"
      },
      "source": [
        "from sklearn.svm import SVC, LinearSVC"
      ],
      "execution_count": null,
      "outputs": []
    },
    {
      "cell_type": "code",
      "metadata": {
        "id": "ryantS-DEYVG"
      },
      "source": [
        "linear_svc = LinearSVC()\n",
        "linear_svc.fit(X_train, y_train)\n",
        "Y_pred = linear_svc.predict(X_test)\n",
        "acc_linear_svc = round(linear_svc.score(X_train, y_train) * 100, 2)\n",
        "acc_linear_svc"
      ],
      "execution_count": null,
      "outputs": []
    },
    {
      "cell_type": "markdown",
      "metadata": {
        "id": "ggW3WJ1NeCaq"
      },
      "source": [
        "####GaussianNB"
      ]
    },
    {
      "cell_type": "code",
      "metadata": {
        "id": "gwzWWOBpdGKJ"
      },
      "source": [
        "from sklearn.naive_bayes import GaussianNB"
      ],
      "execution_count": null,
      "outputs": []
    },
    {
      "cell_type": "code",
      "metadata": {
        "id": "1AMe1ncXcyHs"
      },
      "source": [
        "gaussian = GaussianNB()\n",
        "gaussian.fit(X_train, y_train)\n",
        "Y_pred = gaussian.predict(X_test)\n",
        "acc_gaussian = round(gaussian.score(X_train, y_train) * 100, 2)\n",
        "acc_gaussian"
      ],
      "execution_count": null,
      "outputs": []
    },
    {
      "cell_type": "markdown",
      "metadata": {
        "id": "xg0NJymfeFYM"
      },
      "source": [
        "####RandomForestClassifier"
      ]
    },
    {
      "cell_type": "code",
      "metadata": {
        "id": "uds9xGL8derw"
      },
      "source": [
        "from sklearn.ensemble import RandomForestClassifier"
      ],
      "execution_count": null,
      "outputs": []
    },
    {
      "cell_type": "code",
      "metadata": {
        "id": "HP4MTjKudL2Z"
      },
      "source": [
        "random_forest = RandomForestClassifier(n_estimators=100)\n",
        "random_forest.fit(X_train, y_train)\n",
        "Y_pred = random_forest.predict(X_test)\n",
        "random_forest.score(X_train, y_train)\n",
        "acc_random_forest = round(random_forest.score(X_train, y_train) * 100, 2)\n",
        "acc_random_forest"
      ],
      "execution_count": null,
      "outputs": []
    },
    {
      "cell_type": "markdown",
      "metadata": {
        "id": "zlC3Xc_BhCNV"
      },
      "source": [
        "###Testing Accuracy"
      ]
    },
    {
      "cell_type": "code",
      "metadata": {
        "id": "uvnr0E0mdjod"
      },
      "source": [
        "models = pd.DataFrame({\n",
        "    'Model': ['KNN', 'Logistic Regression', \n",
        "              'Random Forest',  'Linear SVC',\n",
        "              'Stochastic Gradient Decent', \n",
        "              'Decision Tree'],\n",
        "    'Score': [acc_knn, acc_logmodel, \n",
        "              acc_random_forest, acc_linear_svc, \n",
        "              acc_gaussian, acc_tree]})\n",
        "models.sort_values(by='Score', ascending=False)"
      ],
      "execution_count": null,
      "outputs": []
    },
    {
      "cell_type": "code",
      "metadata": {
        "id": "1ESwUTisgT41"
      },
      "source": [
        ""
      ],
      "execution_count": null,
      "outputs": []
    }
  ]
}